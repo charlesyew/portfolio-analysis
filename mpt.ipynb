{
 "cells": [
  {
   "cell_type": "markdown",
   "metadata": {},
   "source": [
    "# Portfolio Analysis"
   ]
  },
  {
   "cell_type": "markdown",
   "metadata": {},
   "source": [
    "In this project, we seek to run through some classic and modern portfolio construction and asset allocation strategies like Modern Portfolio Theory (Markovitz, 1952), Black-Litterman Model (Black & Litterman, 1992) , Hierarchical Risk Parity (Lopez de Prado, 2016) etc. to gain some insights into the usefulness of standard risk measures like sharpe ratio and maximum drawdown in constructing a risk-adjusted portfolio. The end goal is to test such strategies to a sufficient level of rigour that we can convincingly employ them into our portfolio rebalancing pipeline. I will start off by testing a dummy portfolio and the procedures should be generalizable. Let's get started! \n",
    "\n",
    "(**Note**: *Some of the inputs used are based off my personal fundamental analysis so they are not yet documented.*)"
   ]
  },
  {
   "cell_type": "markdown",
   "metadata": {},
   "source": [
    "## 0. Project Setup"
   ]
  },
  {
   "cell_type": "markdown",
   "metadata": {},
   "source": [
    "##### Assets"
   ]
  },
  {
   "cell_type": "markdown",
   "metadata": {},
   "source": [
    "1. Sea Limited (NYSE:'**SE**')\n",
    "2. Unity Software Inc (NYSE:'**U**')\n",
    "3. NVIDIA Corporation (NASDAQ:'**NVDA**') \n",
    "4. Bilibili Inc (NASDAQ:'**BILI**')\n",
    "5. Facebook Inc (NASDAQ:'**FB**')\n",
    "6. Draftkings Inc (NASDAQ:'**DKNG**')\n",
    "7. Pinduoduo Inc (NASDAQ:'**PDD**')\n",
    "8. Alphabet Inc (NASDAQ:'**GOOG**)\n",
    "9. Amazon.com Inc (NASDAQ:'**AMZN**)\n",
    "10. Roblox Corp (NYSE:'**RBLX**')\n",
    "11. Clearpoint Neuro Inc(NASDAQ: '**CLPT**')\n",
    "12. Intellia Therapeutics Inc (NASDAQ: '**NTLA**')\n",
    "13. Coinbase Global Inc (NASDAQ: '**COIN**')\n",
    "14. Upstart Holdings Inc (NASDAQ: '**UPST**')"
   ]
  },
  {
   "cell_type": "markdown",
   "metadata": {},
   "source": [
    "##### Data"
   ]
  },
  {
   "cell_type": "markdown",
   "metadata": {},
   "source": [
    "Daily adjusted closing prices from yahoo finance API "
   ]
  },
  {
   "cell_type": "markdown",
   "metadata": {},
   "source": [
    "##### Time period"
   ]
  },
  {
   "cell_type": "markdown",
   "metadata": {},
   "source": [
    "1 year, 3 year, 5 year & 10 year."
   ]
  },
  {
   "cell_type": "code",
   "execution_count": 3,
   "metadata": {},
   "outputs": [],
   "source": [
    "# Load the required packages \n",
    "# Computation\n",
    "import numpy as np \n",
    "from scipy import fftpack\n",
    "# Plotting\n",
    "import matplotlib.pyplot as plt\n",
    "import mplcursors\n",
    "import matplotlib.ticker as mtick\n",
    "import seaborn as sns\n",
    "# Data analysis\n",
    "import pandas as pd\n",
    "from sklearn import preprocessing\n",
    "# Data source\n",
    "import yfinance as yf"
   ]
  },
  {
   "cell_type": "markdown",
   "metadata": {},
   "source": [
    "## 1. Data Analysis"
   ]
  },
  {
   "cell_type": "code",
   "execution_count": 4,
   "metadata": {},
   "outputs": [
    {
     "name": "stdout",
     "output_type": "stream",
     "text": [
      "[*********************100%***********************]  14 of 14 completed\n",
      "[*********************100%***********************]  14 of 14 completed\n",
      "[*********************100%***********************]  14 of 14 completed\n",
      "[*********************100%***********************]  14 of 14 completed\n",
      "[*********************100%***********************]  1 of 1 completed\n",
      "[*********************100%***********************]  1 of 1 completed\n",
      "[*********************100%***********************]  1 of 1 completed\n",
      "[*********************100%***********************]  1 of 1 completed\n"
     ]
    }
   ],
   "source": [
    "# shortlisted stocks for portfolio analysis\n",
    "s_list = 'SE U NVDA BILI FB DKNG PDD GOOG AMZN RBLX NTLA COIN UPST CLPT'\n",
    "df_1y = yf.download(tickers = s_list, period = '1y', interval = '1d', group_by = 'ticker')\n",
    "df_3y = yf.download(tickers = s_list, period = '3y', interval = '1d', group_by = 'ticker')\n",
    "df_5y = yf.download(tickers = s_list, period = '5y', interval = '1d', group_by = 'ticker')\n",
    "df_10y = yf.download(tickers = s_list, period = '10y', interval = '1d', group_by = 'ticker')\n",
    "\n",
    "# Benchmark - S&P500\n",
    "bench = '^GSPC'\n",
    "bench_1y = yf.download(tickers = bench, period = '1y', interval = '1d')\n",
    "bench_3y = yf.download(tickers = bench, period = '3y', interval = '1d')\n",
    "bench_5y = yf.download(tickers = bench, period = '5y', interval = '1d')\n",
    "bench_10y = yf.download(tickers = bench, period = '10y', interval = '1d')"
   ]
  },
  {
   "cell_type": "code",
   "execution_count": 5,
   "metadata": {
    "scrolled": true
   },
   "outputs": [
    {
     "data": {
      "text/html": [
       "<div>\n",
       "<style scoped>\n",
       "    .dataframe tbody tr th:only-of-type {\n",
       "        vertical-align: middle;\n",
       "    }\n",
       "\n",
       "    .dataframe tbody tr th {\n",
       "        vertical-align: top;\n",
       "    }\n",
       "\n",
       "    .dataframe thead th {\n",
       "        text-align: right;\n",
       "    }\n",
       "</style>\n",
       "<table border=\"1\" class=\"dataframe\">\n",
       "  <thead>\n",
       "    <tr style=\"text-align: right;\">\n",
       "      <th></th>\n",
       "      <th>SE</th>\n",
       "      <th>U</th>\n",
       "      <th>NVDA</th>\n",
       "      <th>BILI</th>\n",
       "      <th>FB</th>\n",
       "      <th>DKNG</th>\n",
       "      <th>PDD</th>\n",
       "      <th>GOOG</th>\n",
       "      <th>AMZN</th>\n",
       "      <th>RBLX</th>\n",
       "      <th>NTLA</th>\n",
       "      <th>COIN</th>\n",
       "      <th>UPST</th>\n",
       "      <th>CLPT</th>\n",
       "      <th>S&amp;P500</th>\n",
       "    </tr>\n",
       "    <tr>\n",
       "      <th>Date</th>\n",
       "      <th></th>\n",
       "      <th></th>\n",
       "      <th></th>\n",
       "      <th></th>\n",
       "      <th></th>\n",
       "      <th></th>\n",
       "      <th></th>\n",
       "      <th></th>\n",
       "      <th></th>\n",
       "      <th></th>\n",
       "      <th></th>\n",
       "      <th></th>\n",
       "      <th></th>\n",
       "      <th></th>\n",
       "      <th></th>\n",
       "    </tr>\n",
       "  </thead>\n",
       "  <tbody>\n",
       "    <tr>\n",
       "      <th>2021-10-05</th>\n",
       "      <td>320.940002</td>\n",
       "      <td>128.050003</td>\n",
       "      <td>204.509995</td>\n",
       "      <td>64.500000</td>\n",
       "      <td>332.959991</td>\n",
       "      <td>49.290001</td>\n",
       "      <td>87.419998</td>\n",
       "      <td>2723.540039</td>\n",
       "      <td>3221.000000</td>\n",
       "      <td>72.570000</td>\n",
       "      <td>129.759995</td>\n",
       "      <td>240.089996</td>\n",
       "      <td>296.299988</td>\n",
       "      <td>17.150000</td>\n",
       "      <td>4345.720215</td>\n",
       "    </tr>\n",
       "    <tr>\n",
       "      <th>2021-10-06</th>\n",
       "      <td>315.339996</td>\n",
       "      <td>130.380005</td>\n",
       "      <td>207.000000</td>\n",
       "      <td>64.269997</td>\n",
       "      <td>333.640015</td>\n",
       "      <td>48.990002</td>\n",
       "      <td>89.320000</td>\n",
       "      <td>2747.080078</td>\n",
       "      <td>3262.010010</td>\n",
       "      <td>73.699997</td>\n",
       "      <td>129.690002</td>\n",
       "      <td>250.380005</td>\n",
       "      <td>307.700012</td>\n",
       "      <td>17.280001</td>\n",
       "      <td>4363.549805</td>\n",
       "    </tr>\n",
       "    <tr>\n",
       "      <th>2021-10-07</th>\n",
       "      <td>324.250000</td>\n",
       "      <td>136.070007</td>\n",
       "      <td>210.750000</td>\n",
       "      <td>70.400002</td>\n",
       "      <td>329.220001</td>\n",
       "      <td>49.369999</td>\n",
       "      <td>94.949997</td>\n",
       "      <td>2783.709961</td>\n",
       "      <td>3302.429932</td>\n",
       "      <td>74.800003</td>\n",
       "      <td>134.779999</td>\n",
       "      <td>251.589996</td>\n",
       "      <td>307.380005</td>\n",
       "      <td>17.250000</td>\n",
       "      <td>4399.759766</td>\n",
       "    </tr>\n",
       "    <tr>\n",
       "      <th>2021-10-08</th>\n",
       "      <td>323.279999</td>\n",
       "      <td>136.220001</td>\n",
       "      <td>208.309998</td>\n",
       "      <td>70.959999</td>\n",
       "      <td>330.049988</td>\n",
       "      <td>47.910000</td>\n",
       "      <td>96.220001</td>\n",
       "      <td>2801.120117</td>\n",
       "      <td>3288.620117</td>\n",
       "      <td>70.440002</td>\n",
       "      <td>120.709999</td>\n",
       "      <td>248.139999</td>\n",
       "      <td>311.230011</td>\n",
       "      <td>17.049999</td>\n",
       "      <td>4391.339844</td>\n",
       "    </tr>\n",
       "    <tr>\n",
       "      <th>2021-10-11</th>\n",
       "      <td>323.350006</td>\n",
       "      <td>135.580002</td>\n",
       "      <td>208.343506</td>\n",
       "      <td>71.849998</td>\n",
       "      <td>328.375000</td>\n",
       "      <td>49.470001</td>\n",
       "      <td>97.925003</td>\n",
       "      <td>2798.857422</td>\n",
       "      <td>3279.794922</td>\n",
       "      <td>70.949997</td>\n",
       "      <td>122.529999</td>\n",
       "      <td>252.580002</td>\n",
       "      <td>307.399994</td>\n",
       "      <td>17.043600</td>\n",
       "      <td>4394.120117</td>\n",
       "    </tr>\n",
       "  </tbody>\n",
       "</table>\n",
       "</div>"
      ],
      "text/plain": [
       "                    SE           U        NVDA       BILI          FB  \\\n",
       "Date                                                                    \n",
       "2021-10-05  320.940002  128.050003  204.509995  64.500000  332.959991   \n",
       "2021-10-06  315.339996  130.380005  207.000000  64.269997  333.640015   \n",
       "2021-10-07  324.250000  136.070007  210.750000  70.400002  329.220001   \n",
       "2021-10-08  323.279999  136.220001  208.309998  70.959999  330.049988   \n",
       "2021-10-11  323.350006  135.580002  208.343506  71.849998  328.375000   \n",
       "\n",
       "                 DKNG        PDD         GOOG         AMZN       RBLX  \\\n",
       "Date                                                                    \n",
       "2021-10-05  49.290001  87.419998  2723.540039  3221.000000  72.570000   \n",
       "2021-10-06  48.990002  89.320000  2747.080078  3262.010010  73.699997   \n",
       "2021-10-07  49.369999  94.949997  2783.709961  3302.429932  74.800003   \n",
       "2021-10-08  47.910000  96.220001  2801.120117  3288.620117  70.440002   \n",
       "2021-10-11  49.470001  97.925003  2798.857422  3279.794922  70.949997   \n",
       "\n",
       "                  NTLA        COIN        UPST       CLPT       S&P500  \n",
       "Date                                                                    \n",
       "2021-10-05  129.759995  240.089996  296.299988  17.150000  4345.720215  \n",
       "2021-10-06  129.690002  250.380005  307.700012  17.280001  4363.549805  \n",
       "2021-10-07  134.779999  251.589996  307.380005  17.250000  4399.759766  \n",
       "2021-10-08  120.709999  248.139999  311.230011  17.049999  4391.339844  \n",
       "2021-10-11  122.529999  252.580002  307.399994  17.043600  4394.120117  "
      ]
     },
     "execution_count": 5,
     "metadata": {},
     "output_type": "execute_result"
    }
   ],
   "source": [
    "# select column for adjusted close prices\n",
    "df_close_1y = df_1y.xs('Adj Close', level = 1, axis = 1)\n",
    "df_close_3y = df_3y.xs('Adj Close', level = 1, axis = 1)\n",
    "df_close_5y = df_5y.xs('Adj Close', level = 1, axis = 1)\n",
    "df_close_10y = df_10y.xs('Adj Close', level = 1, axis = 1)\n",
    "bench_close_1y = pd.DataFrame(data = bench_1y['Adj Close'], columns = ['Adj Close'])\n",
    "bench_close_3y = pd.DataFrame(data = bench_3y['Adj Close'], columns = ['Adj Close'])\n",
    "bench_close_5y = pd.DataFrame(data = bench_5y['Adj Close'], columns = ['Adj Close'])\n",
    "bench_close_10y = pd.DataFrame(data = bench_10y['Adj Close'], columns = ['Adj Close'])\n",
    "\n",
    "# adding column name to benchmark table\n",
    "bench_close_1y = bench_close_1y.rename(columns = {'Adj Close':'S&P500'})\n",
    "bench_close_3y = bench_close_3y.rename(columns = {'Adj Close':'S&P500'})\n",
    "bench_close_5y = bench_close_5y.rename(columns = {'Adj Close':'S&P500'})\n",
    "bench_close_10y = bench_close_10y.rename(columns = {'Adj Close':'S&P500'})\n",
    " \n",
    "# reordering column names in portfolio \n",
    "s_order = ['SE', 'U', 'NVDA', 'BILI', 'FB', 'DKNG', 'PDD', 'GOOG', 'AMZN', 'RBLX', 'NTLA', 'COIN', 'UPST', 'CLPT']\n",
    "df_close_1y = df_close_1y[s_order]\n",
    "df_close_3y = df_close_3y[s_order]\n",
    "df_close_5y = df_close_5y[s_order]\n",
    "df_close_10y = df_close_10y[s_order]\n",
    "\n",
    "# appending benchmark prices to portfolio dataframe \n",
    "df_close_1y = pd.concat([df_close_1y,bench_close_1y], axis = 1)\n",
    "df_close_3y = pd.concat([df_close_3y,bench_close_3y], axis = 1)\n",
    "df_close_5y = pd.concat([df_close_5y,bench_close_5y], axis = 1)\n",
    "df_close_10y = pd.concat([df_close_10y,bench_close_10y], axis = 1)\n",
    "\n",
    "# drop row if all values are NaN\n",
    "df_close_1y.dropna(axis = 0, how = 'all', inplace = True)\n",
    "df_close_3y.dropna(axis = 0, how = 'all', inplace = True)\n",
    "df_close_5y.dropna(axis = 0, how = 'all', inplace = True)\n",
    "df_close_10y.dropna(axis = 0, how = 'all', inplace = True)\n",
    "\n",
    "# check the last 5 trading days\n",
    "df_close_1y.tail(5)"
   ]
  },
  {
   "cell_type": "code",
   "execution_count": 6,
   "metadata": {},
   "outputs": [],
   "source": [
    "# normalize the prices \n",
    "n = len(df_close_1y.columns)\n",
    "df_close_1y_norm = df_close_1y.copy()\n",
    "df_close_3y_norm = df_close_3y.copy()\n",
    "df_close_5y_norm = df_close_5y.copy()\n",
    "df_close_10y_norm = df_close_10y.copy()\n",
    "\n",
    "for i in range(n): \n",
    "    a = df_close_1y.iloc[:,i].first_valid_index()\n",
    "    df_close_1y_start = df_close_1y.iloc[:,i].loc[a]\n",
    "    df_close_1y_norm.iloc[:,i] = (df_close_1y.iloc[:,i] - df_close_1y_start)/df_close_1y_start\n",
    "    \n",
    "    b = df_close_3y.iloc[:,i].first_valid_index()\n",
    "    df_close_3y_start = df_close_3y.iloc[:,i].loc[b]\n",
    "    df_close_3y_norm.iloc[:,i] = (df_close_3y.iloc[:,i] - df_close_3y_start)/df_close_3y_start\n",
    "    \n",
    "    c = df_close_5y.iloc[:,i].first_valid_index()\n",
    "    df_close_5y_start = df_close_5y.iloc[:,i].loc[c]\n",
    "    df_close_5y_norm.iloc[:,i] = (df_close_5y.iloc[:,i] - df_close_5y_start)/df_close_5y_start\n",
    "    \n",
    "    d = df_close_10y.iloc[:,i].first_valid_index()\n",
    "    df_close_10y_start = df_close_10y.iloc[:,i].loc[d]\n",
    "    df_close_10y_norm.iloc[:,i] = (df_close_10y.iloc[:,i] - df_close_10y_start)/df_close_10y_start"
   ]
  },
  {
   "cell_type": "code",
   "execution_count": 50,
   "metadata": {},
   "outputs": [
    {
     "data": {
      "application/vnd.jupyter.widget-view+json": {
       "model_id": "7b3dbb8ae8ce48e38586d27ab477a914",
       "version_major": 2,
       "version_minor": 0
      },
      "text/plain": [
       "Canvas(toolbar=Toolbar(toolitems=[('Home', 'Reset original view', 'home', 'home'), ('Back', 'Back to previous …"
      ]
     },
     "metadata": {},
     "output_type": "display_data"
    }
   ],
   "source": [
    "# plotting out the prices\n",
    "%matplotlib widget\n",
    "\n",
    "# plot configurations\n",
    "sns.set(style=\"darkgrid\", font_scale=0.8)\n",
    "palette = sns.color_palette(\"hls\", n)\n",
    "fig1, ax1 = plt.subplots(figsize=(8, 4))\n",
    "\n",
    "# plotting out the figure\n",
    "plot1 = sns.lineplot(ax=ax1, data = df_close_1y_norm, dashes = False, palette=palette)\n",
    "plt.legend(bbox_to_anchor=(1, 1), loc=2, borderaxespad=0., fontsize = 8)\n",
    "ax1.yaxis.set_major_formatter(mtick.PercentFormatter(1.0))\n",
    "plt.title('1 Year Returns')\n",
    "\n",
    "# make it interactive\n",
    "cursor = mplcursors.cursor(plot1, hover=True)\n",
    "@cursor.connect(\"add\")\n",
    "def on_add(sel):\n",
    "    sel.annotation.set(text=tt[sel.target.index])\n",
    "    \n",
    "plt.show()"
   ]
  },
  {
   "cell_type": "code",
   "execution_count": 8,
   "metadata": {},
   "outputs": [
    {
     "data": {
      "text/html": [
       "<div>\n",
       "<style scoped>\n",
       "    .dataframe tbody tr th:only-of-type {\n",
       "        vertical-align: middle;\n",
       "    }\n",
       "\n",
       "    .dataframe tbody tr th {\n",
       "        vertical-align: top;\n",
       "    }\n",
       "\n",
       "    .dataframe thead th {\n",
       "        text-align: right;\n",
       "    }\n",
       "</style>\n",
       "<table border=\"1\" class=\"dataframe\">\n",
       "  <thead>\n",
       "    <tr style=\"text-align: right;\">\n",
       "      <th></th>\n",
       "      <th>SE</th>\n",
       "      <th>U</th>\n",
       "      <th>NVDA</th>\n",
       "      <th>BILI</th>\n",
       "      <th>FB</th>\n",
       "      <th>DKNG</th>\n",
       "      <th>PDD</th>\n",
       "      <th>GOOG</th>\n",
       "      <th>AMZN</th>\n",
       "      <th>RBLX</th>\n",
       "      <th>NTLA</th>\n",
       "      <th>COIN</th>\n",
       "      <th>UPST</th>\n",
       "      <th>CLPT</th>\n",
       "      <th>S&amp;P500</th>\n",
       "    </tr>\n",
       "  </thead>\n",
       "  <tbody>\n",
       "    <tr>\n",
       "      <th>count</th>\n",
       "      <td>251.000000</td>\n",
       "      <td>251.000000</td>\n",
       "      <td>251.000000</td>\n",
       "      <td>251.000000</td>\n",
       "      <td>251.000000</td>\n",
       "      <td>251.000000</td>\n",
       "      <td>251.000000</td>\n",
       "      <td>251.000000</td>\n",
       "      <td>251.000000</td>\n",
       "      <td>149.000000</td>\n",
       "      <td>251.000000</td>\n",
       "      <td>125.000000</td>\n",
       "      <td>205.000000</td>\n",
       "      <td>251.000000</td>\n",
       "      <td>251.000000</td>\n",
       "    </tr>\n",
       "    <tr>\n",
       "      <th>mean</th>\n",
       "      <td>0.003242</td>\n",
       "      <td>0.002389</td>\n",
       "      <td>0.001838</td>\n",
       "      <td>0.002772</td>\n",
       "      <td>0.000889</td>\n",
       "      <td>0.000509</td>\n",
       "      <td>0.001664</td>\n",
       "      <td>0.002426</td>\n",
       "      <td>-0.000065</td>\n",
       "      <td>0.001015</td>\n",
       "      <td>0.008236</td>\n",
       "      <td>-0.001481</td>\n",
       "      <td>0.015410</td>\n",
       "      <td>0.005816</td>\n",
       "      <td>0.000904</td>\n",
       "    </tr>\n",
       "    <tr>\n",
       "      <th>std</th>\n",
       "      <td>0.034940</td>\n",
       "      <td>0.038857</td>\n",
       "      <td>0.025050</td>\n",
       "      <td>0.048401</td>\n",
       "      <td>0.019693</td>\n",
       "      <td>0.034813</td>\n",
       "      <td>0.047440</td>\n",
       "      <td>0.015434</td>\n",
       "      <td>0.016024</td>\n",
       "      <td>0.042416</td>\n",
       "      <td>0.060898</td>\n",
       "      <td>0.035416</td>\n",
       "      <td>0.096743</td>\n",
       "      <td>0.048992</td>\n",
       "      <td>0.008512</td>\n",
       "    </tr>\n",
       "    <tr>\n",
       "      <th>min</th>\n",
       "      <td>-0.103195</td>\n",
       "      <td>-0.141312</td>\n",
       "      <td>-0.082178</td>\n",
       "      <td>-0.170397</td>\n",
       "      <td>-0.063099</td>\n",
       "      <td>-0.084906</td>\n",
       "      <td>-0.122561</td>\n",
       "      <td>-0.054630</td>\n",
       "      <td>-0.075649</td>\n",
       "      <td>-0.123584</td>\n",
       "      <td>-0.107134</td>\n",
       "      <td>-0.078664</td>\n",
       "      <td>-0.281373</td>\n",
       "      <td>-0.165829</td>\n",
       "      <td>-0.035288</td>\n",
       "    </tr>\n",
       "    <tr>\n",
       "      <th>25%</th>\n",
       "      <td>-0.015658</td>\n",
       "      <td>-0.022634</td>\n",
       "      <td>-0.011683</td>\n",
       "      <td>-0.029688</td>\n",
       "      <td>-0.010715</td>\n",
       "      <td>-0.022796</td>\n",
       "      <td>-0.027439</td>\n",
       "      <td>-0.005270</td>\n",
       "      <td>-0.008459</td>\n",
       "      <td>-0.027302</td>\n",
       "      <td>-0.028986</td>\n",
       "      <td>-0.024695</td>\n",
       "      <td>-0.039428</td>\n",
       "      <td>-0.021156</td>\n",
       "      <td>-0.003453</td>\n",
       "    </tr>\n",
       "    <tr>\n",
       "      <th>50%</th>\n",
       "      <td>0.003474</td>\n",
       "      <td>0.002277</td>\n",
       "      <td>0.002297</td>\n",
       "      <td>0.001371</td>\n",
       "      <td>-0.000224</td>\n",
       "      <td>-0.001582</td>\n",
       "      <td>-0.001753</td>\n",
       "      <td>0.002454</td>\n",
       "      <td>0.000719</td>\n",
       "      <td>0.000529</td>\n",
       "      <td>0.003632</td>\n",
       "      <td>-0.006277</td>\n",
       "      <td>0.006190</td>\n",
       "      <td>0.000345</td>\n",
       "      <td>0.001015</td>\n",
       "    </tr>\n",
       "    <tr>\n",
       "      <th>75%</th>\n",
       "      <td>0.025901</td>\n",
       "      <td>0.025932</td>\n",
       "      <td>0.016029</td>\n",
       "      <td>0.032242</td>\n",
       "      <td>0.013024</td>\n",
       "      <td>0.019598</td>\n",
       "      <td>0.021967</td>\n",
       "      <td>0.009114</td>\n",
       "      <td>0.009458</td>\n",
       "      <td>0.026530</td>\n",
       "      <td>0.035809</td>\n",
       "      <td>0.016587</td>\n",
       "      <td>0.047685</td>\n",
       "      <td>0.031471</td>\n",
       "      <td>0.006018</td>\n",
       "    </tr>\n",
       "    <tr>\n",
       "      <th>max</th>\n",
       "      <td>0.108809</td>\n",
       "      <td>0.132524</td>\n",
       "      <td>0.080333</td>\n",
       "      <td>0.221735</td>\n",
       "      <td>0.083227</td>\n",
       "      <td>0.116854</td>\n",
       "      <td>0.222496</td>\n",
       "      <td>0.073961</td>\n",
       "      <td>0.063230</td>\n",
       "      <td>0.213281</td>\n",
       "      <td>0.502083</td>\n",
       "      <td>0.112818</td>\n",
       "      <td>0.893239</td>\n",
       "      <td>0.157664</td>\n",
       "      <td>0.023791</td>\n",
       "    </tr>\n",
       "  </tbody>\n",
       "</table>\n",
       "</div>"
      ],
      "text/plain": [
       "               SE           U        NVDA        BILI          FB        DKNG  \\\n",
       "count  251.000000  251.000000  251.000000  251.000000  251.000000  251.000000   \n",
       "mean     0.003242    0.002389    0.001838    0.002772    0.000889    0.000509   \n",
       "std      0.034940    0.038857    0.025050    0.048401    0.019693    0.034813   \n",
       "min     -0.103195   -0.141312   -0.082178   -0.170397   -0.063099   -0.084906   \n",
       "25%     -0.015658   -0.022634   -0.011683   -0.029688   -0.010715   -0.022796   \n",
       "50%      0.003474    0.002277    0.002297    0.001371   -0.000224   -0.001582   \n",
       "75%      0.025901    0.025932    0.016029    0.032242    0.013024    0.019598   \n",
       "max      0.108809    0.132524    0.080333    0.221735    0.083227    0.116854   \n",
       "\n",
       "              PDD        GOOG        AMZN        RBLX        NTLA        COIN  \\\n",
       "count  251.000000  251.000000  251.000000  149.000000  251.000000  125.000000   \n",
       "mean     0.001664    0.002426   -0.000065    0.001015    0.008236   -0.001481   \n",
       "std      0.047440    0.015434    0.016024    0.042416    0.060898    0.035416   \n",
       "min     -0.122561   -0.054630   -0.075649   -0.123584   -0.107134   -0.078664   \n",
       "25%     -0.027439   -0.005270   -0.008459   -0.027302   -0.028986   -0.024695   \n",
       "50%     -0.001753    0.002454    0.000719    0.000529    0.003632   -0.006277   \n",
       "75%      0.021967    0.009114    0.009458    0.026530    0.035809    0.016587   \n",
       "max      0.222496    0.073961    0.063230    0.213281    0.502083    0.112818   \n",
       "\n",
       "             UPST        CLPT      S&P500  \n",
       "count  205.000000  251.000000  251.000000  \n",
       "mean     0.015410    0.005816    0.000904  \n",
       "std      0.096743    0.048992    0.008512  \n",
       "min     -0.281373   -0.165829   -0.035288  \n",
       "25%     -0.039428   -0.021156   -0.003453  \n",
       "50%      0.006190    0.000345    0.001015  \n",
       "75%      0.047685    0.031471    0.006018  \n",
       "max      0.893239    0.157664    0.023791  "
      ]
     },
     "execution_count": 8,
     "metadata": {},
     "output_type": "execute_result"
    }
   ],
   "source": [
    "# convert the price into rate of return\n",
    "df_return_1y = df_close_1y.pct_change()\n",
    "df_return_3y = df_close_3y.pct_change()\n",
    "df_return_5y = df_close_5y.pct_change()\n",
    "df_return_10y = df_close_10y.pct_change()\n",
    "\n",
    "# check the descriptive statistics of 1 year rate of return\n",
    "df_return_1y.describe()"
   ]
  },
  {
   "cell_type": "markdown",
   "metadata": {},
   "source": [
    "### Rate of Return"
   ]
  },
  {
   "cell_type": "code",
   "execution_count": 9,
   "metadata": {},
   "outputs": [
    {
     "data": {
      "text/html": [
       "<div>\n",
       "<style scoped>\n",
       "    .dataframe tbody tr th:only-of-type {\n",
       "        vertical-align: middle;\n",
       "    }\n",
       "\n",
       "    .dataframe tbody tr th {\n",
       "        vertical-align: top;\n",
       "    }\n",
       "\n",
       "    .dataframe thead th {\n",
       "        text-align: right;\n",
       "    }\n",
       "</style>\n",
       "<table border=\"1\" class=\"dataframe\">\n",
       "  <thead>\n",
       "    <tr style=\"text-align: right;\">\n",
       "      <th></th>\n",
       "      <th>1Y Annual Return</th>\n",
       "      <th>3Y Annual Return</th>\n",
       "      <th>5Y Annual Return</th>\n",
       "      <th>10Y Annual Return</th>\n",
       "    </tr>\n",
       "  </thead>\n",
       "  <tbody>\n",
       "    <tr>\n",
       "      <th>SE</th>\n",
       "      <td>0.816935</td>\n",
       "      <td>1.274988</td>\n",
       "      <td>0.923959</td>\n",
       "      <td>0.923959</td>\n",
       "    </tr>\n",
       "    <tr>\n",
       "      <th>U</th>\n",
       "      <td>0.601936</td>\n",
       "      <td>0.858655</td>\n",
       "      <td>0.858655</td>\n",
       "      <td>0.858655</td>\n",
       "    </tr>\n",
       "    <tr>\n",
       "      <th>NVDA</th>\n",
       "      <td>0.463203</td>\n",
       "      <td>0.554378</td>\n",
       "      <td>0.626346</td>\n",
       "      <td>0.495256</td>\n",
       "    </tr>\n",
       "    <tr>\n",
       "      <th>BILI</th>\n",
       "      <td>0.698560</td>\n",
       "      <td>0.777328</td>\n",
       "      <td>0.736814</td>\n",
       "      <td>0.736814</td>\n",
       "    </tr>\n",
       "    <tr>\n",
       "      <th>FB</th>\n",
       "      <td>0.223921</td>\n",
       "      <td>0.320465</td>\n",
       "      <td>0.242065</td>\n",
       "      <td>0.296362</td>\n",
       "    </tr>\n",
       "    <tr>\n",
       "      <th>DKNG</th>\n",
       "      <td>0.128214</td>\n",
       "      <td>0.932357</td>\n",
       "      <td>0.932274</td>\n",
       "      <td>0.932274</td>\n",
       "    </tr>\n",
       "    <tr>\n",
       "      <th>PDD</th>\n",
       "      <td>0.419301</td>\n",
       "      <td>0.737922</td>\n",
       "      <td>0.658163</td>\n",
       "      <td>0.658163</td>\n",
       "    </tr>\n",
       "    <tr>\n",
       "      <th>GOOG</th>\n",
       "      <td>0.611384</td>\n",
       "      <td>0.365153</td>\n",
       "      <td>0.291262</td>\n",
       "      <td>0.265864</td>\n",
       "    </tr>\n",
       "    <tr>\n",
       "      <th>AMZN</th>\n",
       "      <td>-0.016371</td>\n",
       "      <td>0.268863</td>\n",
       "      <td>0.318347</td>\n",
       "      <td>0.311164</td>\n",
       "    </tr>\n",
       "    <tr>\n",
       "      <th>RBLX</th>\n",
       "      <td>0.255888</td>\n",
       "      <td>0.258890</td>\n",
       "      <td>0.258890</td>\n",
       "      <td>0.258890</td>\n",
       "    </tr>\n",
       "    <tr>\n",
       "      <th>NTLA</th>\n",
       "      <td>2.075523</td>\n",
       "      <td>0.905615</td>\n",
       "      <td>0.752190</td>\n",
       "      <td>0.615000</td>\n",
       "    </tr>\n",
       "    <tr>\n",
       "      <th>COIN</th>\n",
       "      <td>-0.373171</td>\n",
       "      <td>-0.373862</td>\n",
       "      <td>-0.373862</td>\n",
       "      <td>-0.373862</td>\n",
       "    </tr>\n",
       "    <tr>\n",
       "      <th>UPST</th>\n",
       "      <td>3.883225</td>\n",
       "      <td>3.883225</td>\n",
       "      <td>3.883225</td>\n",
       "      <td>3.886069</td>\n",
       "    </tr>\n",
       "    <tr>\n",
       "      <th>CLPT</th>\n",
       "      <td>1.465566</td>\n",
       "      <td>1.013538</td>\n",
       "      <td>0.607135</td>\n",
       "      <td>0.352878</td>\n",
       "    </tr>\n",
       "    <tr>\n",
       "      <th>S&amp;P500</th>\n",
       "      <td>0.227848</td>\n",
       "      <td>0.186178</td>\n",
       "      <td>0.162806</td>\n",
       "      <td>0.144355</td>\n",
       "    </tr>\n",
       "  </tbody>\n",
       "</table>\n",
       "</div>"
      ],
      "text/plain": [
       "        1Y Annual Return  3Y Annual Return  5Y Annual Return  \\\n",
       "SE              0.816935          1.274988          0.923959   \n",
       "U               0.601936          0.858655          0.858655   \n",
       "NVDA            0.463203          0.554378          0.626346   \n",
       "BILI            0.698560          0.777328          0.736814   \n",
       "FB              0.223921          0.320465          0.242065   \n",
       "DKNG            0.128214          0.932357          0.932274   \n",
       "PDD             0.419301          0.737922          0.658163   \n",
       "GOOG            0.611384          0.365153          0.291262   \n",
       "AMZN           -0.016371          0.268863          0.318347   \n",
       "RBLX            0.255888          0.258890          0.258890   \n",
       "NTLA            2.075523          0.905615          0.752190   \n",
       "COIN           -0.373171         -0.373862         -0.373862   \n",
       "UPST            3.883225          3.883225          3.883225   \n",
       "CLPT            1.465566          1.013538          0.607135   \n",
       "S&P500          0.227848          0.186178          0.162806   \n",
       "\n",
       "        10Y Annual Return  \n",
       "SE               0.923959  \n",
       "U                0.858655  \n",
       "NVDA             0.495256  \n",
       "BILI             0.736814  \n",
       "FB               0.296362  \n",
       "DKNG             0.932274  \n",
       "PDD              0.658163  \n",
       "GOOG             0.265864  \n",
       "AMZN             0.311164  \n",
       "RBLX             0.258890  \n",
       "NTLA             0.615000  \n",
       "COIN            -0.373862  \n",
       "UPST             3.886069  \n",
       "CLPT             0.352878  \n",
       "S&P500           0.144355  "
      ]
     },
     "execution_count": 9,
     "metadata": {},
     "output_type": "execute_result"
    }
   ],
   "source": [
    "# compute the annualized average rate of return across a 1 year, 3 year, 5 year & 10 year horizon.\n",
    "nday = 252 # number of trading days\n",
    "df_return_1y_mean = pd.DataFrame(data = df_return_1y.mean(axis = 0), columns = ['1Y Annual Return']) * nday\n",
    "df_return_3y_mean = pd.DataFrame(data = df_return_3y.mean(axis = 0), columns = ['3Y Annual Return']) * nday\n",
    "df_return_5y_mean = pd.DataFrame(data = df_return_5y.mean(axis = 0), columns = ['5Y Annual Return']) * nday\n",
    "df_return_10y_mean = pd.DataFrame(data = df_return_10y.mean(axis = 0), columns = ['10Y Annual Return']) * nday\n",
    "data_frames = [df_return_1y_mean, df_return_3y_mean, df_return_5y_mean, df_return_10y_mean]\n",
    "df_return_merge = pd.concat(data_frames, axis = 1)\n",
    "\n",
    "#df_return_10y_mean.plot.barh()\n",
    "df_return_merge"
   ]
  },
  {
   "cell_type": "markdown",
   "metadata": {},
   "source": [
    "We see that the annualized returns are skewed to the right due to the broad spike in equity valuations in 2020. Also, some of the companies in the list only went public in the last 5 years, which explains the potentially transitory outperformance against the benchmark. A subtle takeaway is that some of the returns are largely driven by a particular breakout year (e.g. AMZN from March to September 2020), which serves as a timely caution against making large portfolio adjustments based on 1-year performance alone. "
   ]
  },
  {
   "cell_type": "markdown",
   "metadata": {},
   "source": [
    "### Variance"
   ]
  },
  {
   "cell_type": "code",
   "execution_count": 10,
   "metadata": {},
   "outputs": [
    {
     "data": {
      "text/html": [
       "<div>\n",
       "<style scoped>\n",
       "    .dataframe tbody tr th:only-of-type {\n",
       "        vertical-align: middle;\n",
       "    }\n",
       "\n",
       "    .dataframe tbody tr th {\n",
       "        vertical-align: top;\n",
       "    }\n",
       "\n",
       "    .dataframe thead th {\n",
       "        text-align: right;\n",
       "    }\n",
       "</style>\n",
       "<table border=\"1\" class=\"dataframe\">\n",
       "  <thead>\n",
       "    <tr style=\"text-align: right;\">\n",
       "      <th></th>\n",
       "      <th>1Y Daily Variance</th>\n",
       "      <th>3Y Daily Variance</th>\n",
       "      <th>5Y Daily Variance</th>\n",
       "      <th>10Y Daily Variance</th>\n",
       "    </tr>\n",
       "  </thead>\n",
       "  <tbody>\n",
       "    <tr>\n",
       "      <th>SE</th>\n",
       "      <td>0.092300</td>\n",
       "      <td>75.458489</td>\n",
       "      <td>37.833189</td>\n",
       "      <td>37.833189</td>\n",
       "    </tr>\n",
       "    <tr>\n",
       "      <th>U</th>\n",
       "      <td>0.056179</td>\n",
       "      <td>0.103669</td>\n",
       "      <td>0.103669</td>\n",
       "      <td>0.103669</td>\n",
       "    </tr>\n",
       "    <tr>\n",
       "      <th>NVDA</th>\n",
       "      <td>0.054358</td>\n",
       "      <td>0.910997</td>\n",
       "      <td>9.638293</td>\n",
       "      <td>220.818521</td>\n",
       "    </tr>\n",
       "    <tr>\n",
       "      <th>BILI</th>\n",
       "      <td>0.322312</td>\n",
       "      <td>8.956915</td>\n",
       "      <td>10.830379</td>\n",
       "      <td>10.830379</td>\n",
       "    </tr>\n",
       "    <tr>\n",
       "      <th>FB</th>\n",
       "      <td>0.019543</td>\n",
       "      <td>0.183500</td>\n",
       "      <td>0.239984</td>\n",
       "      <td>4.943467</td>\n",
       "    </tr>\n",
       "    <tr>\n",
       "      <th>DKNG</th>\n",
       "      <td>0.021187</td>\n",
       "      <td>3.630957</td>\n",
       "      <td>3.630953</td>\n",
       "      <td>3.630953</td>\n",
       "    </tr>\n",
       "    <tr>\n",
       "      <th>PDD</th>\n",
       "      <td>0.140604</td>\n",
       "      <td>5.576119</td>\n",
       "      <td>3.366872</td>\n",
       "      <td>3.366872</td>\n",
       "    </tr>\n",
       "    <tr>\n",
       "      <th>GOOG</th>\n",
       "      <td>0.069467</td>\n",
       "      <td>0.247045</td>\n",
       "      <td>0.436196</td>\n",
       "      <td>4.363891</td>\n",
       "    </tr>\n",
       "    <tr>\n",
       "      <th>AMZN</th>\n",
       "      <td>0.002130</td>\n",
       "      <td>0.174885</td>\n",
       "      <td>1.086916</td>\n",
       "      <td>18.365290</td>\n",
       "    </tr>\n",
       "    <tr>\n",
       "      <th>RBLX</th>\n",
       "      <td>0.012993</td>\n",
       "      <td>0.012990</td>\n",
       "      <td>0.012990</td>\n",
       "      <td>0.012990</td>\n",
       "    </tr>\n",
       "    <tr>\n",
       "      <th>NTLA</th>\n",
       "      <td>3.365404</td>\n",
       "      <td>3.441760</td>\n",
       "      <td>6.673276</td>\n",
       "      <td>2.179382</td>\n",
       "    </tr>\n",
       "    <tr>\n",
       "      <th>COIN</th>\n",
       "      <td>0.006514</td>\n",
       "      <td>0.006514</td>\n",
       "      <td>0.006514</td>\n",
       "      <td>0.006514</td>\n",
       "    </tr>\n",
       "    <tr>\n",
       "      <th>UPST</th>\n",
       "      <td>6.742861</td>\n",
       "      <td>6.742861</td>\n",
       "      <td>6.742861</td>\n",
       "      <td>6.744266</td>\n",
       "    </tr>\n",
       "    <tr>\n",
       "      <th>CLPT</th>\n",
       "      <td>0.894555</td>\n",
       "      <td>13.489271</td>\n",
       "      <td>1.057726</td>\n",
       "      <td>0.708810</td>\n",
       "    </tr>\n",
       "    <tr>\n",
       "      <th>S&amp;P500</th>\n",
       "      <td>0.008726</td>\n",
       "      <td>0.044665</td>\n",
       "      <td>0.079728</td>\n",
       "      <td>0.423176</td>\n",
       "    </tr>\n",
       "  </tbody>\n",
       "</table>\n",
       "</div>"
      ],
      "text/plain": [
       "        1Y Daily Variance  3Y Daily Variance  5Y Daily Variance  \\\n",
       "SE               0.092300          75.458489          37.833189   \n",
       "U                0.056179           0.103669           0.103669   \n",
       "NVDA             0.054358           0.910997           9.638293   \n",
       "BILI             0.322312           8.956915          10.830379   \n",
       "FB               0.019543           0.183500           0.239984   \n",
       "DKNG             0.021187           3.630957           3.630953   \n",
       "PDD              0.140604           5.576119           3.366872   \n",
       "GOOG             0.069467           0.247045           0.436196   \n",
       "AMZN             0.002130           0.174885           1.086916   \n",
       "RBLX             0.012993           0.012990           0.012990   \n",
       "NTLA             3.365404           3.441760           6.673276   \n",
       "COIN             0.006514           0.006514           0.006514   \n",
       "UPST             6.742861           6.742861           6.742861   \n",
       "CLPT             0.894555          13.489271           1.057726   \n",
       "S&P500           0.008726           0.044665           0.079728   \n",
       "\n",
       "        10Y Daily Variance  \n",
       "SE               37.833189  \n",
       "U                 0.103669  \n",
       "NVDA            220.818521  \n",
       "BILI             10.830379  \n",
       "FB                4.943467  \n",
       "DKNG              3.630953  \n",
       "PDD               3.366872  \n",
       "GOOG              4.363891  \n",
       "AMZN             18.365290  \n",
       "RBLX              0.012990  \n",
       "NTLA              2.179382  \n",
       "COIN              0.006514  \n",
       "UPST              6.744266  \n",
       "CLPT              0.708810  \n",
       "S&P500            0.423176  "
      ]
     },
     "execution_count": 10,
     "metadata": {},
     "output_type": "execute_result"
    }
   ],
   "source": [
    "# compute the daily standard deviation across a 1 year, 3 year, 5 year & 10 year horizon.\n",
    "df_std_1y = pd.DataFrame(data = df_close_1y_norm.std(axis = 0), columns = ['1Y Daily Standard Deviation'])  \n",
    "df_std_3y = pd.DataFrame(data = df_close_3y_norm.std(axis = 0), columns = ['3Y Daily Standard Deviation']) \n",
    "df_std_5y = pd.DataFrame(data = df_close_5y_norm.std(axis = 0), columns = ['5Y Daily Standard Deviation']) \n",
    "df_std_10y = pd.DataFrame(data = df_close_10y_norm.std(axis = 0), columns = ['10Y Daily Standard Deviation']) \n",
    "data_frames = [df_std_1y, df_std_3y, df_std_5y, df_std_10y]\n",
    "df_std_merge = pd.concat(data_frames, axis = 1)\n",
    "\n",
    "# compute the daily variance across a 1 year, 3 year, 5 year & 10 year horizon.\n",
    "df_var_1y = pd.DataFrame(data = df_close_1y_norm.var(axis = 0), columns = ['1Y Daily Variance'])  \n",
    "df_var_3y = pd.DataFrame(data = df_close_3y_norm.var(axis = 0), columns = ['3Y Daily Variance']) \n",
    "df_var_5y = pd.DataFrame(data = df_close_5y_norm.var(axis = 0, skipna = True), columns = ['5Y Daily Variance']) \n",
    "df_var_10y = pd.DataFrame(data = df_close_10y_norm.var(axis = 0, skipna = True), columns = ['10Y Daily Variance']) \n",
    "data_frames = [df_var_1y, df_var_3y, df_var_5y, df_var_10y]\n",
    "df_var_merge = pd.concat(data_frames, axis = 1)\n",
    "\n",
    "df_var_merge"
   ]
  },
  {
   "cell_type": "code",
   "execution_count": 11,
   "metadata": {},
   "outputs": [],
   "source": [
    "# compute the pearson pairwise correlation matrix\n",
    "df_return_1y_corr = df_close_1y_norm.corr(method='pearson')\n",
    "df_return_3y_corr = df_close_3y_norm.corr(method='pearson')\n",
    "df_return_5y_corr = df_close_5y_norm.corr(method='pearson')\n",
    "df_return_10y_corr = df_close_10y_norm.corr(method='pearson')"
   ]
  },
  {
   "cell_type": "code",
   "execution_count": 51,
   "metadata": {},
   "outputs": [
    {
     "data": {
      "application/vnd.jupyter.widget-view+json": {
       "model_id": "48cdd98000474805b291c328d17d2278",
       "version_major": 2,
       "version_minor": 0
      },
      "text/plain": [
       "Canvas(toolbar=Toolbar(toolitems=[('Home', 'Reset original view', 'home', 'home'), ('Back', 'Back to previous …"
      ]
     },
     "metadata": {},
     "output_type": "display_data"
    },
    {
     "data": {
      "text/plain": [
       "<AxesSubplot:>"
      ]
     },
     "execution_count": 51,
     "metadata": {},
     "output_type": "execute_result"
    }
   ],
   "source": [
    "# plotting the 1 year correlation matrix \n",
    "\n",
    "sns.set_theme(style=\"white\")\n",
    "# generate a mask for the upper triangle\n",
    "mask = np.triu(np.ones_like(df_return_1y_corr, dtype=bool))\n",
    "\n",
    "# set up the matplotlib figure\n",
    "fig2, ax2 = plt.subplots(figsize=(11, 9))\n",
    "\n",
    "# generate a custom diverging colormap\n",
    "cmap = sns.diverging_palette(240, 5, as_cmap=True)\n",
    "\n",
    "# draw the heatmap with the mask and correct aspect ratio\n",
    "sns.heatmap(df_return_1y_corr, mask=mask, cmap=cmap, vmax=1, center=0, vmin = -1,\n",
    "            square=True, linewidths=.5, cbar_kws={\"shrink\": .5})"
   ]
  },
  {
   "cell_type": "markdown",
   "metadata": {},
   "source": [
    "This result is sort of expected. In general, we know that the big tech should be highly correlated with the S&P500, and the so-called \"high-beta/ARK\" stocks should correlate with each other."
   ]
  },
  {
   "cell_type": "code",
   "execution_count": 13,
   "metadata": {},
   "outputs": [],
   "source": [
    "# compute the pairwise variance covariance matrix \n",
    "df_return_1y_cov = df_close_1y_norm.cov() \n",
    "df_return_3y_cov = df_close_3y_norm.cov()\n",
    "df_return_5y_cov = df_close_5y_norm.cov()\n",
    "df_return_10y_cov = df_close_10y_norm.cov()"
   ]
  },
  {
   "cell_type": "markdown",
   "metadata": {},
   "source": [
    "### Risk-Return Measures"
   ]
  },
  {
   "cell_type": "code",
   "execution_count": 14,
   "metadata": {},
   "outputs": [
    {
     "data": {
      "text/html": [
       "<div>\n",
       "<style scoped>\n",
       "    .dataframe tbody tr th:only-of-type {\n",
       "        vertical-align: middle;\n",
       "    }\n",
       "\n",
       "    .dataframe tbody tr th {\n",
       "        vertical-align: top;\n",
       "    }\n",
       "\n",
       "    .dataframe thead th {\n",
       "        text-align: right;\n",
       "    }\n",
       "</style>\n",
       "<table border=\"1\" class=\"dataframe\">\n",
       "  <thead>\n",
       "    <tr style=\"text-align: right;\">\n",
       "      <th></th>\n",
       "      <th>1Y Sharpe</th>\n",
       "      <th>3Y Sharpe</th>\n",
       "      <th>5Y Sharpe</th>\n",
       "      <th>10Y Sharpe</th>\n",
       "    </tr>\n",
       "  </thead>\n",
       "  <tbody>\n",
       "    <tr>\n",
       "      <th>SE</th>\n",
       "      <td>2.688967</td>\n",
       "      <td>0.146775</td>\n",
       "      <td>0.150216</td>\n",
       "      <td>0.150216</td>\n",
       "    </tr>\n",
       "    <tr>\n",
       "      <th>U</th>\n",
       "      <td>2.539588</td>\n",
       "      <td>2.666818</td>\n",
       "      <td>2.666818</td>\n",
       "      <td>2.666818</td>\n",
       "    </tr>\n",
       "    <tr>\n",
       "      <th>NVDA</th>\n",
       "      <td>1.986740</td>\n",
       "      <td>0.580828</td>\n",
       "      <td>0.201750</td>\n",
       "      <td>0.033328</td>\n",
       "    </tr>\n",
       "    <tr>\n",
       "      <th>BILI</th>\n",
       "      <td>1.230456</td>\n",
       "      <td>0.259732</td>\n",
       "      <td>0.223891</td>\n",
       "      <td>0.223891</td>\n",
       "    </tr>\n",
       "    <tr>\n",
       "      <th>FB</th>\n",
       "      <td>1.601749</td>\n",
       "      <td>0.748106</td>\n",
       "      <td>0.494129</td>\n",
       "      <td>0.133293</td>\n",
       "    </tr>\n",
       "    <tr>\n",
       "      <th>DKNG</th>\n",
       "      <td>0.880842</td>\n",
       "      <td>0.489296</td>\n",
       "      <td>0.489253</td>\n",
       "      <td>0.489253</td>\n",
       "    </tr>\n",
       "    <tr>\n",
       "      <th>PDD</th>\n",
       "      <td>1.118218</td>\n",
       "      <td>0.312496</td>\n",
       "      <td>0.358691</td>\n",
       "      <td>0.358691</td>\n",
       "    </tr>\n",
       "    <tr>\n",
       "      <th>GOOG</th>\n",
       "      <td>2.319659</td>\n",
       "      <td>0.734660</td>\n",
       "      <td>0.441005</td>\n",
       "      <td>0.127269</td>\n",
       "    </tr>\n",
       "    <tr>\n",
       "      <th>AMZN</th>\n",
       "      <td>-0.354738</td>\n",
       "      <td>0.642916</td>\n",
       "      <td>0.305354</td>\n",
       "      <td>0.072609</td>\n",
       "    </tr>\n",
       "    <tr>\n",
       "      <th>RBLX</th>\n",
       "      <td>2.244885</td>\n",
       "      <td>2.271477</td>\n",
       "      <td>2.271477</td>\n",
       "      <td>2.271477</td>\n",
       "    </tr>\n",
       "    <tr>\n",
       "      <th>NTLA</th>\n",
       "      <td>1.131381</td>\n",
       "      <td>0.488150</td>\n",
       "      <td>0.291178</td>\n",
       "      <td>0.416590</td>\n",
       "    </tr>\n",
       "    <tr>\n",
       "      <th>COIN</th>\n",
       "      <td>-4.623625</td>\n",
       "      <td>-4.632185</td>\n",
       "      <td>-4.632185</td>\n",
       "      <td>-4.632185</td>\n",
       "    </tr>\n",
       "    <tr>\n",
       "      <th>UPST</th>\n",
       "      <td>1.495445</td>\n",
       "      <td>1.495445</td>\n",
       "      <td>1.495445</td>\n",
       "      <td>1.496384</td>\n",
       "    </tr>\n",
       "    <tr>\n",
       "      <th>CLPT</th>\n",
       "      <td>1.549537</td>\n",
       "      <td>0.275960</td>\n",
       "      <td>0.590335</td>\n",
       "      <td>0.419140</td>\n",
       "    </tr>\n",
       "    <tr>\n",
       "      <th>S&amp;P500</th>\n",
       "      <td>2.439193</td>\n",
       "      <td>0.880938</td>\n",
       "      <td>0.576586</td>\n",
       "      <td>0.221907</td>\n",
       "    </tr>\n",
       "  </tbody>\n",
       "</table>\n",
       "</div>"
      ],
      "text/plain": [
       "        1Y Sharpe  3Y Sharpe  5Y Sharpe  10Y Sharpe\n",
       "SE       2.688967   0.146775   0.150216    0.150216\n",
       "U        2.539588   2.666818   2.666818    2.666818\n",
       "NVDA     1.986740   0.580828   0.201750    0.033328\n",
       "BILI     1.230456   0.259732   0.223891    0.223891\n",
       "FB       1.601749   0.748106   0.494129    0.133293\n",
       "DKNG     0.880842   0.489296   0.489253    0.489253\n",
       "PDD      1.118218   0.312496   0.358691    0.358691\n",
       "GOOG     2.319659   0.734660   0.441005    0.127269\n",
       "AMZN    -0.354738   0.642916   0.305354    0.072609\n",
       "RBLX     2.244885   2.271477   2.271477    2.271477\n",
       "NTLA     1.131381   0.488150   0.291178    0.416590\n",
       "COIN    -4.623625  -4.632185  -4.632185   -4.632185\n",
       "UPST     1.495445   1.495445   1.495445    1.496384\n",
       "CLPT     1.549537   0.275960   0.590335    0.419140\n",
       "S&P500   2.439193   0.880938   0.576586    0.221907"
      ]
     },
     "execution_count": 14,
     "metadata": {},
     "output_type": "execute_result"
    }
   ],
   "source": [
    "# Sharpe ratio \n",
    "df_sharpe_merge = np.divide(df_return_merge,df_std_merge)\n",
    "df_sharpe_merge.rename(columns = {'1Y Annual Return':'1Y Sharpe', '3Y Annual Return':'3Y Sharpe', '5Y Annual Return':'5Y Sharpe','10Y Annual Return':'10Y Sharpe'}, inplace=True)\n",
    "df_sharpe_merge"
   ]
  },
  {
   "cell_type": "markdown",
   "metadata": {},
   "source": [
    "Comparing the sharpe ratios of the individual stocks against the benchmark, it becomes apparent that beating the market on a risk-adjusted basis is no simple feat (at least when we use volatility as a risk measure). The sharpe ratio of individual names might be higher than the S&P500 on their peak years, but they tend to fall behind on historical aggregates of longer time horizons."
   ]
  },
  {
   "cell_type": "markdown",
   "metadata": {},
   "source": [
    "## 2. Portfolio Optimization"
   ]
  },
  {
   "cell_type": "markdown",
   "metadata": {},
   "source": [
    "In this section, we will start off by experimenting with the PyPortfolioOpt library (Martin, 2021). His work can be accessed [here](https://joss.theoj.org/papers/10.21105/joss.03066)."
   ]
  },
  {
   "cell_type": "code",
   "execution_count": 15,
   "metadata": {},
   "outputs": [],
   "source": [
    "from pypfopt import EfficientFrontier\n",
    "from pypfopt import risk_models\n",
    "from pypfopt import expected_returns\n",
    "from pypfopt.black_litterman import BlackLittermanModel\n",
    "from pypfopt.hierarchical_portfolio import HRPOpt"
   ]
  },
  {
   "cell_type": "markdown",
   "metadata": {},
   "source": [
    "### Current Allocation"
   ]
  },
  {
   "cell_type": "code",
   "execution_count": 16,
   "metadata": {},
   "outputs": [
    {
     "data": {
      "text/html": [
       "<div>\n",
       "<style scoped>\n",
       "    .dataframe tbody tr th:only-of-type {\n",
       "        vertical-align: middle;\n",
       "    }\n",
       "\n",
       "    .dataframe tbody tr th {\n",
       "        vertical-align: top;\n",
       "    }\n",
       "\n",
       "    .dataframe thead th {\n",
       "        text-align: right;\n",
       "    }\n",
       "</style>\n",
       "<table border=\"1\" class=\"dataframe\">\n",
       "  <thead>\n",
       "    <tr style=\"text-align: right;\">\n",
       "      <th></th>\n",
       "      <th>SE</th>\n",
       "      <th>U</th>\n",
       "      <th>NVDA</th>\n",
       "      <th>BILI</th>\n",
       "      <th>FB</th>\n",
       "      <th>DKNG</th>\n",
       "      <th>PDD</th>\n",
       "      <th>GOOG</th>\n",
       "      <th>AMZN</th>\n",
       "      <th>RBLX</th>\n",
       "      <th>NTLA</th>\n",
       "      <th>COIN</th>\n",
       "      <th>UPST</th>\n",
       "      <th>CLPT</th>\n",
       "    </tr>\n",
       "  </thead>\n",
       "  <tbody>\n",
       "    <tr>\n",
       "      <th>weight</th>\n",
       "      <td>0.4</td>\n",
       "      <td>0.12</td>\n",
       "      <td>0.1</td>\n",
       "      <td>0.06</td>\n",
       "      <td>0.06</td>\n",
       "      <td>0.06</td>\n",
       "      <td>0.04</td>\n",
       "      <td>0.04</td>\n",
       "      <td>0.04</td>\n",
       "      <td>0.04</td>\n",
       "      <td>0.01</td>\n",
       "      <td>0.01</td>\n",
       "      <td>0.01</td>\n",
       "      <td>0.01</td>\n",
       "    </tr>\n",
       "  </tbody>\n",
       "</table>\n",
       "</div>"
      ],
      "text/plain": [
       "         SE     U  NVDA  BILI    FB  DKNG   PDD  GOOG  AMZN  RBLX  NTLA  COIN  \\\n",
       "weight  0.4  0.12   0.1  0.06  0.06  0.06  0.04  0.04  0.04  0.04  0.01  0.01   \n",
       "\n",
       "        UPST  CLPT  \n",
       "weight  0.01  0.01  "
      ]
     },
     "execution_count": 16,
     "metadata": {},
     "output_type": "execute_result"
    }
   ],
   "source": [
    "# current weightage \n",
    "arr_w = np.array([[0.40,0.12,0.10,0.06,0.06,0.06,0.04,0.04,0.04,0.04,0.01, 0.01, 0.01, 0.01]])\n",
    "df_w = pd.DataFrame(data = arr_w, columns = s_order)\n",
    "df_w = df_w.rename(index={0: \"weight\"})\n",
    "df_w"
   ]
  },
  {
   "cell_type": "code",
   "execution_count": 85,
   "metadata": {},
   "outputs": [
    {
     "data": {
      "application/vnd.jupyter.widget-view+json": {
       "model_id": "afe4ee7929c24f859e25fff789855bfc",
       "version_major": 2,
       "version_minor": 0
      },
      "text/plain": [
       "Canvas(toolbar=Toolbar(toolitems=[('Home', 'Reset original view', 'home', 'home'), ('Back', 'Back to previous …"
      ]
     },
     "metadata": {},
     "output_type": "display_data"
    }
   ],
   "source": [
    "fig3, ax3 = plt.subplots()\n",
    "ax3.pie(df_w.loc['weight'], labels = s_order,normalize=False);\n",
    "plt.show()"
   ]
  },
  {
   "cell_type": "code",
   "execution_count": 20,
   "metadata": {},
   "outputs": [],
   "source": [
    "# split dataframe into portfolio and benchmark\n",
    "df_return_1y_mean_port = df_return_1y_mean.iloc[0:n-1,:]\n",
    "df_return_1y_mean_bench = df_return_1y_mean.loc['S&P500']\n",
    "\n",
    "df_return_1y_cov_port = df_return_1y_cov.iloc[0:n-1,0:n-1]\n",
    "\n",
    "# convert dataframe back to numpy array for ease of manipulation\n",
    "np_return_1y_mean = df_return_1y_mean_port.T.to_numpy()\n",
    "np_return_1y_cov = df_return_1y_cov_port.to_numpy()"
   ]
  },
  {
   "cell_type": "code",
   "execution_count": 113,
   "metadata": {},
   "outputs": [
    {
     "name": "stdout",
     "output_type": "stream",
     "text": [
      "Portfolio 1y return:[[0.62968786]]; Portfolio 1y variance:[[0.04521599]]; Portfolio 1y volatility:[[0.21264053]]\n",
      "Portfolio 1y sharpe ratio:[[2.9612787]]; S&P500 1y Sharpe: 2.4391930105070707\n"
     ]
    }
   ],
   "source": [
    "# portfolio return \n",
    "portfolio_return_1y = np.inner(np_return_1y_mean,arr_w)\n",
    "portfolio_var_1y = np.matmul(np.matmul(arr_w,np_return_1y_cov),arr_w.T)\n",
    "portfolio_vol_1y = np.sqrt(portfolio_var_1y)\n",
    "portfolio_sharpe_1y = portfolio_return_1y/np.sqrt(portfolio_var_1y)\n",
    "benchmark_sharpe_1y = df_sharpe_merge['1Y Sharpe']['S&P500']\n",
    "print(f'Portfolio 1y return:{portfolio_return_1y}; Portfolio 1y variance:{portfolio_var_1y}; Portfolio 1y volatility:{portfolio_vol_1y}')\n",
    "print(f'Portfolio 1y sharpe ratio:{portfolio_sharpe_1y}; S&P500 1y Sharpe: {benchmark_sharpe_1y}')"
   ]
  },
  {
   "cell_type": "markdown",
   "metadata": {},
   "source": [
    "Here, we see the diversification effects of a multi-asset portfolio. While the 1 year portfolio returns remains at a respectable 68%, the portfolio volatility is drastically reduced as compared to the volatility of the individual stocks. In MPT terminology, the idiosyncratic risks of individual assets is reduced.\n",
    "\n",
    "However, we once again see the power of the S&P500, which boosts a Sharpe ratio of 2.60 compared to our current portfolio Sharpe ratio of 2.87. Now let's see if we can use the MPT techniques to construct a portfolio that outperforms the market on a risk-adjusted basis. "
   ]
  },
  {
   "cell_type": "markdown",
   "metadata": {},
   "source": [
    "### Maximum Sharpe Portfolio "
   ]
  },
  {
   "cell_type": "code",
   "execution_count": 22,
   "metadata": {},
   "outputs": [],
   "source": [
    "# split dataframe into portfolio and benchmark\n",
    "df_close_1y_port = df_close_1y.iloc[:,0:n-1]\n",
    "df_close_1y_bench = df_close_1y['S&P500']"
   ]
  },
  {
   "cell_type": "code",
   "execution_count": 23,
   "metadata": {},
   "outputs": [
    {
     "data": {
      "text/html": [
       "<div>\n",
       "<style scoped>\n",
       "    .dataframe tbody tr th:only-of-type {\n",
       "        vertical-align: middle;\n",
       "    }\n",
       "\n",
       "    .dataframe tbody tr th {\n",
       "        vertical-align: top;\n",
       "    }\n",
       "\n",
       "    .dataframe thead th {\n",
       "        text-align: right;\n",
       "    }\n",
       "</style>\n",
       "<table border=\"1\" class=\"dataframe\">\n",
       "  <thead>\n",
       "    <tr style=\"text-align: right;\">\n",
       "      <th></th>\n",
       "      <th>Arithmetic</th>\n",
       "      <th>Geometric</th>\n",
       "      <th>2021-10-11 00:00:00</th>\n",
       "      <th>CAPM</th>\n",
       "    </tr>\n",
       "  </thead>\n",
       "  <tbody>\n",
       "    <tr>\n",
       "      <th>SE</th>\n",
       "      <td>0.816935</td>\n",
       "      <td>0.939233</td>\n",
       "      <td>1.140653</td>\n",
       "      <td>1.316552</td>\n",
       "    </tr>\n",
       "    <tr>\n",
       "      <th>U</th>\n",
       "      <td>0.601936</td>\n",
       "      <td>0.508906</td>\n",
       "      <td>0.786875</td>\n",
       "      <td>1.376036</td>\n",
       "    </tr>\n",
       "    <tr>\n",
       "      <th>NVDA</th>\n",
       "      <td>0.463203</td>\n",
       "      <td>0.468295</td>\n",
       "      <td>0.689609</td>\n",
       "      <td>0.831161</td>\n",
       "    </tr>\n",
       "    <tr>\n",
       "      <th>BILI</th>\n",
       "      <td>0.698560</td>\n",
       "      <td>0.503055</td>\n",
       "      <td>0.326789</td>\n",
       "      <td>1.737116</td>\n",
       "    </tr>\n",
       "    <tr>\n",
       "      <th>FB</th>\n",
       "      <td>0.223921</td>\n",
       "      <td>0.191672</td>\n",
       "      <td>0.203006</td>\n",
       "      <td>0.522149</td>\n",
       "    </tr>\n",
       "    <tr>\n",
       "      <th>DKNG</th>\n",
       "      <td>0.128214</td>\n",
       "      <td>-0.022420</td>\n",
       "      <td>0.061948</td>\n",
       "      <td>0.999018</td>\n",
       "    </tr>\n",
       "    <tr>\n",
       "      <th>PDD</th>\n",
       "      <td>0.419301</td>\n",
       "      <td>0.156534</td>\n",
       "      <td>0.148183</td>\n",
       "      <td>1.631149</td>\n",
       "    </tr>\n",
       "    <tr>\n",
       "      <th>GOOG</th>\n",
       "      <td>0.611384</td>\n",
       "      <td>0.787794</td>\n",
       "      <td>0.738856</td>\n",
       "      <td>0.362772</td>\n",
       "    </tr>\n",
       "    <tr>\n",
       "      <th>AMZN</th>\n",
       "      <td>-0.016371</td>\n",
       "      <td>-0.047567</td>\n",
       "      <td>-0.007078</td>\n",
       "      <td>0.450188</td>\n",
       "    </tr>\n",
       "    <tr>\n",
       "      <th>RBLX</th>\n",
       "      <td>0.255888</td>\n",
       "      <td>0.035539</td>\n",
       "      <td>0.117167</td>\n",
       "      <td>1.113664</td>\n",
       "    </tr>\n",
       "    <tr>\n",
       "      <th>NTLA</th>\n",
       "      <td>2.075523</td>\n",
       "      <td>4.158105</td>\n",
       "      <td>4.624979</td>\n",
       "      <td>1.981588</td>\n",
       "    </tr>\n",
       "    <tr>\n",
       "      <th>COIN</th>\n",
       "      <td>-0.373171</td>\n",
       "      <td>-0.410495</td>\n",
       "      <td>-0.217260</td>\n",
       "      <td>0.580985</td>\n",
       "    </tr>\n",
       "    <tr>\n",
       "      <th>UPST</th>\n",
       "      <td>3.883225</td>\n",
       "      <td>16.856366</td>\n",
       "      <td>34.966266</td>\n",
       "      <td>2.552374</td>\n",
       "    </tr>\n",
       "    <tr>\n",
       "      <th>CLPT</th>\n",
       "      <td>1.465566</td>\n",
       "      <td>2.206477</td>\n",
       "      <td>1.524951</td>\n",
       "      <td>1.288429</td>\n",
       "    </tr>\n",
       "  </tbody>\n",
       "</table>\n",
       "</div>"
      ],
      "text/plain": [
       "      Arithmetic  Geometric  2021-10-11 00:00:00      CAPM\n",
       "SE      0.816935   0.939233             1.140653  1.316552\n",
       "U       0.601936   0.508906             0.786875  1.376036\n",
       "NVDA    0.463203   0.468295             0.689609  0.831161\n",
       "BILI    0.698560   0.503055             0.326789  1.737116\n",
       "FB      0.223921   0.191672             0.203006  0.522149\n",
       "DKNG    0.128214  -0.022420             0.061948  0.999018\n",
       "PDD     0.419301   0.156534             0.148183  1.631149\n",
       "GOOG    0.611384   0.787794             0.738856  0.362772\n",
       "AMZN   -0.016371  -0.047567            -0.007078  0.450188\n",
       "RBLX    0.255888   0.035539             0.117167  1.113664\n",
       "NTLA    2.075523   4.158105             4.624979  1.981588\n",
       "COIN   -0.373171  -0.410495            -0.217260  0.580985\n",
       "UPST    3.883225  16.856366            34.966266  2.552374\n",
       "CLPT    1.465566   2.206477             1.524951  1.288429"
      ]
     },
     "execution_count": 23,
     "metadata": {},
     "output_type": "execute_result"
    }
   ],
   "source": [
    "# Expected returns\n",
    "mu_a = expected_returns.mean_historical_return(df_close_1y_port, compounding = False)\n",
    "mu_g = expected_returns.mean_historical_return(df_close_1y_port, compounding = True)\n",
    "mu_ema = expected_returns.ema_historical_return(df_close_1y_port, compounding=True)\n",
    "mu_capm = expected_returns.capm_return(df_close_1y_port)\n",
    "data_frames = [mu_a,mu_g,mu_ema,mu_capm]\n",
    "df_merge = pd.concat(data_frames, axis = 1)\n",
    "df_merge = df_merge.rename(columns = {0: 'Arithmetic', 1: 'Geometric', 2:'Exponential MA', 'mkt': 'CAPM'})\n",
    "df_merge"
   ]
  },
  {
   "cell_type": "code",
   "execution_count": 24,
   "metadata": {},
   "outputs": [],
   "source": [
    "# Risk matrix\n",
    "S = risk_models.sample_cov(df_close_1y_port)"
   ]
  },
  {
   "cell_type": "code",
   "execution_count": 89,
   "metadata": {},
   "outputs": [
    {
     "name": "stdout",
     "output_type": "stream",
     "text": [
      "OrderedDict([('SE', 0.0), ('U', 0.0), ('NVDA', 0.0), ('BILI', 0.0), ('FB', 0.0), ('DKNG', 0.0), ('PDD', 0.0), ('GOOG', 0.69652), ('AMZN', 0.0), ('RBLX', 0.0), ('NTLA', 0.10335), ('COIN', 0.0), ('UPST', 0.11804), ('CLPT', 0.08209)])\n",
      "Expected annual return: 121.9%\n",
      "Annual volatility: 30.9%\n",
      "Sharpe Ratio: 3.89\n"
     ]
    },
    {
     "data": {
      "text/plain": [
       "(1.2190373245903872, 0.30857391536065754, 3.885737792155784)"
      ]
     },
     "execution_count": 89,
     "metadata": {},
     "output_type": "execute_result"
    }
   ],
   "source": [
    "# Optimize for maximum Sharpe ratio using arithmetic mean & sample covariance matrix\n",
    "ef_a = EfficientFrontier(mu_a, S)\n",
    "raw_weights1 = ef_a.max_sharpe()\n",
    "cleaned_weights1 = ef_a.clean_weights()\n",
    "# ef.save_weights_to_file(\"weights.csv\")  # saves to file\n",
    "print(cleaned_weights1)\n",
    "ef_a.portfolio_performance(verbose=True)"
   ]
  },
  {
   "cell_type": "code",
   "execution_count": 103,
   "metadata": {},
   "outputs": [
    {
     "data": {
      "application/vnd.jupyter.widget-view+json": {
       "model_id": "135d35d3c6264ac4bd89ce32eb9bd18c",
       "version_major": 2,
       "version_minor": 0
      },
      "text/plain": [
       "Canvas(toolbar=Toolbar(toolitems=[('Home', 'Reset original view', 'home', 'home'), ('Back', 'Back to previous …"
      ]
     },
     "metadata": {},
     "output_type": "display_data"
    }
   ],
   "source": [
    "fig4, ax4 = plt.subplots()\n",
    "ax4.pie(pd.Series(cleaned_weights1), labels = cleaned_weights1.keys())\n",
    "plt.show()"
   ]
  },
  {
   "cell_type": "markdown",
   "metadata": {},
   "source": [
    "Here, we see the central limitation behind the methodology of using historical returns to estimate the expected (future) returns. The allocation model placed a disproportionate weight on the outperformers in the past year (i.e. google, upstart & clearpoint), outputing a portfolio that looks good on paper but probably does not hold its weight over time. Let's try to do better. "
   ]
  },
  {
   "cell_type": "code",
   "execution_count": 91,
   "metadata": {},
   "outputs": [
    {
     "name": "stdout",
     "output_type": "stream",
     "text": [
      "OrderedDict([('SE', 0.07485), ('U', 0.06849), ('NVDA', 0.05843), ('BILI', 0.06903), ('FB', 0.06377), ('DKNG', 0.06637), ('PDD', 0.07125), ('GOOG', 0.08472), ('AMZN', 0.10912), ('RBLX', 0.05868), ('NTLA', 0.06246), ('COIN', 0.06475), ('UPST', 0.07211), ('CLPT', 0.07598)])\n",
      "Expected annual return: 116.6%\n",
      "Annual volatility: 34.4%\n",
      "Sharpe Ratio: 3.34\n"
     ]
    },
    {
     "data": {
      "text/plain": [
       "(1.1656148054080397, 0.34350221390786967, 3.3351016646294562)"
      ]
     },
     "execution_count": 91,
     "metadata": {},
     "output_type": "execute_result"
    }
   ],
   "source": [
    "# Optimize for maximum Sharpe ratio using capm returns & sample covariance matrix\n",
    "ef_capm = EfficientFrontier(mu_capm, S)\n",
    "raw_weights2 = ef_capm.max_sharpe()\n",
    "cleaned_weights2 = ef_capm.clean_weights()\n",
    "print(cleaned_weights2)\n",
    "ef_capm.portfolio_performance(verbose=True)"
   ]
  },
  {
   "cell_type": "code",
   "execution_count": 102,
   "metadata": {},
   "outputs": [
    {
     "data": {
      "application/vnd.jupyter.widget-view+json": {
       "model_id": "b05a2a4e35a34c5cbcedc09b599410a9",
       "version_major": 2,
       "version_minor": 0
      },
      "text/plain": [
       "Canvas(toolbar=Toolbar(toolitems=[('Home', 'Reset original view', 'home', 'home'), ('Back', 'Back to previous …"
      ]
     },
     "metadata": {},
     "output_type": "display_data"
    }
   ],
   "source": [
    "fig5, ax5 = plt.subplots()\n",
    "ax5.pie(pd.Series(cleaned_weights2), labels = cleaned_weights2.keys())\n",
    "plt.show()"
   ]
  },
  {
   "cell_type": "markdown",
   "metadata": {},
   "source": [
    "Interestingly, we see that using $\\mu_{CAPM}$ gives us a portfolio allocation that is almost equal weighting across all assets. However, it's absolute and risk-adjusted returns are both inferior compared to the arithmetic mean portfolio. "
   ]
  },
  {
   "cell_type": "markdown",
   "metadata": {},
   "source": [
    "### Black-Litterman Portfolio"
   ]
  },
  {
   "cell_type": "code",
   "execution_count": 105,
   "metadata": {},
   "outputs": [
    {
     "data": {
      "text/html": [
       "<div>\n",
       "<style scoped>\n",
       "    .dataframe tbody tr th:only-of-type {\n",
       "        vertical-align: middle;\n",
       "    }\n",
       "\n",
       "    .dataframe tbody tr th {\n",
       "        vertical-align: top;\n",
       "    }\n",
       "\n",
       "    .dataframe thead th {\n",
       "        text-align: right;\n",
       "    }\n",
       "</style>\n",
       "<table border=\"1\" class=\"dataframe\">\n",
       "  <thead>\n",
       "    <tr style=\"text-align: right;\">\n",
       "      <th></th>\n",
       "      <th>Return</th>\n",
       "      <th>Variance</th>\n",
       "      <th>Sharpe</th>\n",
       "    </tr>\n",
       "  </thead>\n",
       "  <tbody>\n",
       "    <tr>\n",
       "      <th>SE</th>\n",
       "      <td>0.461252</td>\n",
       "      <td>0.307650</td>\n",
       "      <td>1.499275</td>\n",
       "    </tr>\n",
       "    <tr>\n",
       "      <th>U</th>\n",
       "      <td>0.391523</td>\n",
       "      <td>0.380489</td>\n",
       "      <td>1.028999</td>\n",
       "    </tr>\n",
       "    <tr>\n",
       "      <th>NVDA</th>\n",
       "      <td>0.383731</td>\n",
       "      <td>0.158132</td>\n",
       "      <td>2.426645</td>\n",
       "    </tr>\n",
       "    <tr>\n",
       "      <th>BILI</th>\n",
       "      <td>0.384294</td>\n",
       "      <td>0.590354</td>\n",
       "      <td>0.650955</td>\n",
       "    </tr>\n",
       "    <tr>\n",
       "      <th>FB</th>\n",
       "      <td>0.318097</td>\n",
       "      <td>0.097732</td>\n",
       "      <td>3.254780</td>\n",
       "    </tr>\n",
       "    <tr>\n",
       "      <th>DKNG</th>\n",
       "      <td>0.334242</td>\n",
       "      <td>0.305418</td>\n",
       "      <td>1.094374</td>\n",
       "    </tr>\n",
       "    <tr>\n",
       "      <th>PDD</th>\n",
       "      <td>0.390290</td>\n",
       "      <td>0.567142</td>\n",
       "      <td>0.688170</td>\n",
       "    </tr>\n",
       "    <tr>\n",
       "      <th>GOOG</th>\n",
       "      <td>0.283472</td>\n",
       "      <td>0.060030</td>\n",
       "      <td>4.722172</td>\n",
       "    </tr>\n",
       "    <tr>\n",
       "      <th>AMZN</th>\n",
       "      <td>0.291718</td>\n",
       "      <td>0.064702</td>\n",
       "      <td>4.508620</td>\n",
       "    </tr>\n",
       "    <tr>\n",
       "      <th>RBLX</th>\n",
       "      <td>0.274834</td>\n",
       "      <td>0.453381</td>\n",
       "      <td>0.606187</td>\n",
       "    </tr>\n",
       "    <tr>\n",
       "      <th>NTLA</th>\n",
       "      <td>0.387674</td>\n",
       "      <td>0.934547</td>\n",
       "      <td>0.414825</td>\n",
       "    </tr>\n",
       "    <tr>\n",
       "      <th>COIN</th>\n",
       "      <td>0.161632</td>\n",
       "      <td>0.316085</td>\n",
       "      <td>0.511355</td>\n",
       "    </tr>\n",
       "    <tr>\n",
       "      <th>UPST</th>\n",
       "      <td>0.187734</td>\n",
       "      <td>2.358516</td>\n",
       "      <td>0.079598</td>\n",
       "    </tr>\n",
       "    <tr>\n",
       "      <th>CLPT</th>\n",
       "      <td>0.283682</td>\n",
       "      <td>0.604849</td>\n",
       "      <td>0.469013</td>\n",
       "    </tr>\n",
       "  </tbody>\n",
       "</table>\n",
       "</div>"
      ],
      "text/plain": [
       "        Return  Variance    Sharpe\n",
       "SE    0.461252  0.307650  1.499275\n",
       "U     0.391523  0.380489  1.028999\n",
       "NVDA  0.383731  0.158132  2.426645\n",
       "BILI  0.384294  0.590354  0.650955\n",
       "FB    0.318097  0.097732  3.254780\n",
       "DKNG  0.334242  0.305418  1.094374\n",
       "PDD   0.390290  0.567142  0.688170\n",
       "GOOG  0.283472  0.060030  4.722172\n",
       "AMZN  0.291718  0.064702  4.508620\n",
       "RBLX  0.274834  0.453381  0.606187\n",
       "NTLA  0.387674  0.934547  0.414825\n",
       "COIN  0.161632  0.316085  0.511355\n",
       "UPST  0.187734  2.358516  0.079598\n",
       "CLPT  0.283682  0.604849  0.469013"
      ]
     },
     "execution_count": 105,
     "metadata": {},
     "output_type": "execute_result"
    }
   ],
   "source": [
    "S = risk_models.sample_cov(df_close_1y_port)\n",
    "view_dict = {\"SE\": 0.50, \"NVDA\": 0.40, \"U\": 0.40, \"BILI\": 0.39, \"PDD\": 0.37,  \"DKNG\": 0.35, \"FB\": 0.33, \"GOOG\": 0.31, \"AMZN\": 0.31, \"RBLX\": 0.27, }\n",
    "confidence_dict = np.array([0.8,0.8,0.8,0.8,0.8,0.8,0.8,0.8,0.8,0.8])\n",
    "bl = BlackLittermanModel(S, pi=\"equal\", absolute_views=view_dict, omega=\"idzorek\", view_confidences = confidence_dict,tau=0.1)\n",
    "rets = bl.bl_returns()\n",
    "var = pd.DataFrame(np.diag(S), index= S.index , columns = ['Variance'], dtype = float)\n",
    "\n",
    "# black litterman returns\n",
    "df_merge = pd.concat([rets, var], axis = 1)\n",
    "df_merge = df_merge.rename(columns = {0: 'Return'})\n",
    "df_merge['Sharpe'] = df_merge['Return']/df_merge['Variance']\n",
    "df_merge"
   ]
  },
  {
   "cell_type": "code",
   "execution_count": 106,
   "metadata": {
    "scrolled": true
   },
   "outputs": [
    {
     "name": "stdout",
     "output_type": "stream",
     "text": [
      "OrderedDict([('SE', 0.0664), ('U', 0.00874), ('NVDA', 0.06224), ('BILI', 0.0), ('FB', 0.07048), ('DKNG', 0.04039), ('PDD', 0.0), ('GOOG', 0.41605), ('AMZN', 0.30295), ('RBLX', 0.0), ('NTLA', 0.0), ('COIN', 0.02181), ('UPST', 0.00503), ('CLPT', 0.00592)])\n",
      "Expected annual return: 30.6%\n",
      "Annual volatility: 22.5%\n",
      "Sharpe Ratio: 1.27\n"
     ]
    },
    {
     "data": {
      "text/plain": [
       "(0.3063111521581045, 0.22486016530658282, 1.273285340548145)"
      ]
     },
     "execution_count": 106,
     "metadata": {},
     "output_type": "execute_result"
    }
   ],
   "source": [
    "ef_bl = EfficientFrontier(rets, S)\n",
    "raw_weights3 = ef_bl.max_sharpe()\n",
    "cleaned_weights3 = ef_bl.clean_weights()\n",
    "print(cleaned_weights3)\n",
    "ef_bl.portfolio_performance(verbose=True)"
   ]
  },
  {
   "cell_type": "code",
   "execution_count": 107,
   "metadata": {},
   "outputs": [
    {
     "data": {
      "application/vnd.jupyter.widget-view+json": {
       "model_id": "c70ac1bb6c024132aba05bd8dc212815",
       "version_major": 2,
       "version_minor": 0
      },
      "text/plain": [
       "Canvas(toolbar=Toolbar(toolitems=[('Home', 'Reset original view', 'home', 'home'), ('Back', 'Back to previous …"
      ]
     },
     "metadata": {},
     "output_type": "display_data"
    }
   ],
   "source": [
    "fig6, ax6 = plt.subplots()\n",
    "ax6.pie(pd.Series(cleaned_weights3), labels = cleaned_weights3.keys())\n",
    "plt.show()"
   ]
  },
  {
   "cell_type": "markdown",
   "metadata": {},
   "source": [
    "We see that the model still favors stocks with high sharpe-ratio (e.g. GOOG & AMZN)."
   ]
  },
  {
   "cell_type": "markdown",
   "metadata": {},
   "source": [
    "Now let's try out recent developments in the field like shrinkage and Hierarchical Risk Parity (López de Prado, 2016), along with some novel experimental features like exponentially-weighted covariance matrices."
   ]
  },
  {
   "cell_type": "code",
   "execution_count": 108,
   "metadata": {},
   "outputs": [],
   "source": [
    "rets = expected_returns.returns_from_prices(df_close_1y_port)"
   ]
  },
  {
   "cell_type": "code",
   "execution_count": 111,
   "metadata": {},
   "outputs": [
    {
     "name": "stdout",
     "output_type": "stream",
     "text": [
      "OrderedDict([('SE', 0.04566), ('U', 0.03942), ('NVDA', 0.11424), ('BILI', 0.01939), ('FB', 0.11488), ('DKNG', 0.05047), ('PDD', 0.02019), ('GOOG', 0.18703), ('AMZN', 0.21708), ('RBLX', 0.03308), ('NTLA', 0.01649), ('COIN', 0.08568), ('UPST', 0.01161), ('CLPT', 0.04478)])\n",
      "Expected annual return: 40.0%\n",
      "Annual volatility: 24.9%\n",
      "Sharpe Ratio: 1.53\n"
     ]
    }
   ],
   "source": [
    "hrp = HRPOpt(rets)\n",
    "hrp.optimize()\n",
    "cleaned_weights4 = hrp.clean_weights()\n",
    "print(cleaned_weights4)\n",
    "hrp.portfolio_performance(verbose=True);"
   ]
  },
  {
   "cell_type": "code",
   "execution_count": 112,
   "metadata": {},
   "outputs": [
    {
     "data": {
      "application/vnd.jupyter.widget-view+json": {
       "model_id": "9310b0a58eaa446f8810c97b02e5f198",
       "version_major": 2,
       "version_minor": 0
      },
      "text/plain": [
       "Canvas(toolbar=Toolbar(toolitems=[('Home', 'Reset original view', 'home', 'home'), ('Back', 'Back to previous …"
      ]
     },
     "metadata": {},
     "output_type": "display_data"
    }
   ],
   "source": [
    "fig7, ax7 = plt.subplots()\n",
    "ax7.pie(pd.Series(cleaned_weights4), labels = cleaned_weights4.keys(), normalize=False);\n",
    "plt.show()"
   ]
  },
  {
   "cell_type": "markdown",
   "metadata": {},
   "source": [
    "Using the HRP optimization model, we see an allocation that is very similar to that of the Black Litterman model, but with slightly better expected returns and sharpe ratio. However, when we compare the Sharpe ratios to that given by the mean-variance optimization models, we see that there is a stark difference. I need to compute the out-of-sample performance of the models to get a clearer picture."
   ]
  },
  {
   "cell_type": "markdown",
   "metadata": {},
   "source": [
    "## 3. Out-of-Sample Performance"
   ]
  },
  {
   "cell_type": "code",
   "execution_count": null,
   "metadata": {},
   "outputs": [],
   "source": []
  },
  {
   "cell_type": "markdown",
   "metadata": {},
   "source": [
    "## 4.Extensions"
   ]
  },
  {
   "cell_type": "markdown",
   "metadata": {},
   "source": [
    "As per PyPortfolioOpt's roadmap, I aim to include conditional drawdown optimization (Chekhlov et al., 2005), other risk parity optimizations (Spinu,2013), higher moment optimization (Harvey et al., 2010), and factor models into my analysis in the near future. Stay tuned!"
   ]
  }
 ],
 "metadata": {
  "kernelspec": {
   "display_name": "Python 3",
   "language": "python",
   "name": "python3"
  },
  "language_info": {
   "codemirror_mode": {
    "name": "ipython",
    "version": 3
   },
   "file_extension": ".py",
   "mimetype": "text/x-python",
   "name": "python",
   "nbconvert_exporter": "python",
   "pygments_lexer": "ipython3",
   "version": "3.8.5"
  }
 },
 "nbformat": 4,
 "nbformat_minor": 4
}
